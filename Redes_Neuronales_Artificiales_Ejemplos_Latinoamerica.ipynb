{
 "cells": [
  {
   "cell_type": "code",
   "execution_count": null,
   "id": "b0c4dd38",
   "metadata": {},
   "outputs": [],
   "source": [
    "\n",
    "# Importar las librerías necesarias\n",
    "import numpy as np\n",
    "import pandas as pd\n",
    "import matplotlib.pyplot as plt\n",
    "from sklearn.neural_network import MLPClassifier, MLPRegressor\n",
    "from sklearn.cluster import KMeans\n",
    "from sklearn.metrics import classification_report, confusion_matrix\n",
    "from sklearn.model_selection import train_test_split\n",
    "import warnings\n",
    "warnings.filterwarnings(\"ignore\")\n"
   ]
  },
  {
   "cell_type": "markdown",
   "id": "3de96260",
   "metadata": {},
   "source": [
    "# 3.1 Redes Neuronales Artificiales"
   ]
  },
  {
   "cell_type": "markdown",
   "id": "b37c052f",
   "metadata": {},
   "source": [
    "\n",
    "**Definición:**  \n",
    "Una red neuronal artificial es un modelo computacional inspirado en la estructura del cerebro humano, capaz de aprender patrones en los datos.  \n",
    "Las redes neuronales están compuestas por capas de neuronas conectadas entre sí, y se utilizan en tareas como clasificación, regresión y agrupamiento de datos.\n"
   ]
  },
  {
   "cell_type": "code",
   "execution_count": null,
   "id": "4a65f2fe",
   "metadata": {},
   "outputs": [],
   "source": [
    "\n",
    "# Ejemplo: Predicción básica de si un equipo ecuatoriano llegará a una fase final en la Copa Libertadores o Sudamericana.\n",
    "data = {\n",
    "    'Equipo': ['Emelec', 'Barcelona', 'Liga de Quito', 'Independiente del Valle'],\n",
    "    'Puntaje Medio Libertadores': [60, 70, 75, 85],\n",
    "    'Años en Competencias': [10, 15, 20, 5],\n",
    "    'Finalista Libertadores': [0, 1, 1, 1]\n",
    "}\n",
    "\n",
    "df = pd.DataFrame(data)\n",
    "X = df[['Puntaje Medio Libertadores', 'Años en Competencias']]\n",
    "y = df['Finalista Libertadores']\n",
    "\n",
    "# Entrenamiento de una red neuronal simple para clasificación\n",
    "clf = MLPClassifier(hidden_layer_sizes=(5,), max_iter=1000, random_state=1)\n",
    "clf.fit(X, y)\n",
    "\n",
    "# Predicción para un nuevo equipo hipotético\n",
    "nuevo_equipo = np.array([[80, 8]])  # Puntaje medio de 80, 8 años de experiencia\n",
    "prediccion = clf.predict(nuevo_equipo)\n",
    "\n",
    "print(f\"¿Es finalista en la Libertadores? {'Sí' if prediccion[0] == 1 else 'No'}\")\n",
    "\n",
    "# Gráfica\n",
    "plt.scatter(X['Puntaje Medio Libertadores'], X['Años en Competencias'], c=y, cmap='viridis')\n",
    "plt.xlabel('Puntaje Medio Libertadores')\n",
    "plt.ylabel('Años en Competencias')\n",
    "plt.colorbar(label='Finalista (1: Sí, 0: No)')\n",
    "plt.show()\n"
   ]
  },
  {
   "cell_type": "markdown",
   "id": "6328ab12",
   "metadata": {},
   "source": [
    "# 3.2 Arquitectura de una Red Neuronal Artificial"
   ]
  },
  {
   "cell_type": "markdown",
   "id": "9fc207e6",
   "metadata": {},
   "source": [
    "\n",
    "**Definición:**  \n",
    "La arquitectura de una red neuronal define la estructura de sus capas, como la cantidad de neuronas en cada capa y la cantidad de capas ocultas.  \n",
    "La arquitectura más sencilla es la de tres capas: entrada, oculta y salida.\n"
   ]
  },
  {
   "cell_type": "code",
   "execution_count": null,
   "id": "b9b649d7",
   "metadata": {},
   "outputs": [],
   "source": [
    "\n",
    "# Ejemplo: Definir una arquitectura para predecir campeones nacionales en Ecuador.\n",
    "X = np.random.rand(100, 2) * 100\n",
    "y = (X[:, 0] + X[:, 1] > 100).astype(int)\n",
    "\n",
    "# Entrenamos una red neuronal con diferentes capas ocultas para clasificar equipos.\n",
    "clf_arch = MLPClassifier(hidden_layer_sizes=(10, 10), max_iter=1000)\n",
    "clf_arch.fit(X, y)\n",
    "\n",
    "# Predicción de un equipo hipotético\n",
    "nuevo_equipo_arch = np.array([[55, 45]])\n",
    "pred_arch = clf_arch.predict(nuevo_equipo_arch)\n",
    "\n",
    "print(f\"¿Es campeón nacional? {'Sí' if pred_arch[0] == 1 else 'No'}\")\n",
    "\n",
    "# Gráfica de la clasificación con los puntos\n",
    "plt.scatter(X[:, 0], X[:, 1], c=y, cmap='coolwarm')\n",
    "plt.scatter(nuevo_equipo_arch[:, 0], nuevo_equipo_arch[:, 1], color='black', marker='x', s=100, label=\"Equipo Nuevo\")\n",
    "plt.xlabel('Rendimiento')\n",
    "plt.ylabel('Eficiencia')\n",
    "plt.legend()\n",
    "plt.show()\n"
   ]
  },
  {
   "cell_type": "markdown",
   "id": "ec6e357a",
   "metadata": {},
   "source": [
    "# 3.3 Clasificación de Imágenes con Redes Neuronales Artificiales"
   ]
  },
  {
   "cell_type": "markdown",
   "id": "7dc70d87",
   "metadata": {},
   "source": [
    "\n",
    "**Definición:**  \n",
    "La clasificación de imágenes mediante redes neuronales permite asignar etiquetas a imágenes según patrones reconocidos en ellas.  \n",
    "Las redes neuronales convolucionales (CNN) son populares en este campo.\n"
   ]
  },
  {
   "cell_type": "code",
   "execution_count": null,
   "id": "ebafa424",
   "metadata": {},
   "outputs": [],
   "source": [
    "\n",
    "# Ejemplo: Clasificación de imágenes de estadios para identificar si pertenecen a equipos ecuatorianos.\n",
    "# Datos ficticios para representar características de imágenes\n",
    "X_img = np.random.rand(100, 5)  # Supongamos que cada \"imagen\" tiene 5 características extraídas\n",
    "y_img = np.random.randint(0, 2, 100)  # 1 para estadio ecuatoriano, 0 para otro\n",
    "\n",
    "# Entrenar una red neuronal para clasificar imágenes\n",
    "X_train, X_test, y_train, y_test = train_test_split(X_img, y_img, test_size=0.3, random_state=42)\n",
    "clf_img = MLPClassifier(hidden_layer_sizes=(10,), max_iter=1000, random_state=1)\n",
    "clf_img.fit(X_train, y_train)\n",
    "y_pred = clf_img.predict(X_test)\n",
    "\n",
    "print(\"Matriz de confusión para la clasificación de imágenes:\")\n",
    "print(confusion_matrix(y_test, y_pred))\n",
    "print(classification_report(y_test, y_pred))\n"
   ]
  },
  {
   "cell_type": "markdown",
   "id": "6d4badac",
   "metadata": {},
   "source": [
    "# 3.4 Agrupamiento con Redes Neuronales Artificiales"
   ]
  },
  {
   "cell_type": "markdown",
   "id": "2f591239",
   "metadata": {},
   "source": [
    "\n",
    "**Definición:**  \n",
    "El agrupamiento es una técnica de aprendizaje no supervisado para dividir los datos en grupos basados en similitud.  \n",
    "En redes neuronales, este proceso ayuda a encontrar patrones y estructuras sin etiquetas en los datos.\n"
   ]
  },
  {
   "cell_type": "code",
   "execution_count": null,
   "id": "b26a9dbe",
   "metadata": {},
   "outputs": [],
   "source": [
    "\n",
    "# Ejemplo: Agrupamiento de equipos según desempeño para análisis de rendimiento.\n",
    "equipos = {\n",
    "    'Emelec': [60, 8],\n",
    "    'Barcelona': [70, 15],\n",
    "    'Liga de Quito': [75, 20],\n",
    "    'Independiente del Valle': [85, 5]\n",
    "}\n",
    "\n",
    "X_cluster = np.array(list(equipos.values()))\n",
    "\n",
    "# Usamos KMeans para agrupar los equipos\n",
    "kmeans = KMeans(n_clusters=2, random_state=0)\n",
    "kmeans.fit(X_cluster)\n",
    "etiquetas = kmeans.labels_\n",
    "\n",
    "# Graficar los resultados del agrupamiento\n",
    "plt.scatter(X_cluster[:, 0], X_cluster[:, 1], c=etiquetas, cmap='rainbow')\n",
    "for i, equipo in enumerate(equipos.keys()):\n",
    "    plt.text(X_cluster[i, 0] + 0.5, X_cluster[i, 1] + 0.5, equipo)\n",
    "plt.xlabel('Puntaje Medio')\n",
    "plt.ylabel('Años en Competencias')\n",
    "plt.show()\n"
   ]
  },
  {
   "cell_type": "markdown",
   "id": "6a5db61d",
   "metadata": {},
   "source": [
    "# Predicción de Campeones"
   ]
  },
  {
   "cell_type": "code",
   "execution_count": null,
   "id": "1171dc15",
   "metadata": {},
   "outputs": [],
   "source": [
    "\n",
    "# Predicción de campeones en un periodo de 5 años.\n",
    "años = np.array([2025, 2026, 2027, 2028, 2029])\n",
    "campeones = ['Emelec', 'Independiente del Valle', 'Barcelona', 'Liga de Quito', 'Independiente del Valle']\n",
    "\n",
    "plt.plot(años, campeones, marker='o')\n",
    "plt.xlabel('Año')\n",
    "plt.ylabel('Campeón Nacional')\n",
    "plt.title('Predicción de Campeones del Campeonato Nacional en Ecuador')\n",
    "plt.xticks(años)\n",
    "plt.show()\n"
   ]
  }
 ],
 "metadata": {},
 "nbformat": 4,
 "nbformat_minor": 5
}
